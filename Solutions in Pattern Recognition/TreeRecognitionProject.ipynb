{
 "cells": [
  {
   "cell_type": "markdown",
   "metadata": {},
   "source": [
    "## Project Work"
   ]
  },
  {
   "cell_type": "code",
   "execution_count": 1,
   "metadata": {},
   "outputs": [
    {
     "name": "stderr",
     "output_type": "stream",
     "text": [
      "c:\\Python311\\Lib\\site-packages\\tqdm\\auto.py:21: TqdmWarning: IProgress not found. Please update jupyter and ipywidgets. See https://ipywidgets.readthedocs.io/en/stable/user_install.html\n",
      "  from .autonotebook import tqdm as notebook_tqdm\n"
     ]
    }
   ],
   "source": [
    "import torch\n",
    "import torch.nn as nn\n",
    "import torch.optim as optim\n",
    "import gradio as gr\n",
    "from torchvision import models\n",
    "from torchvision.transforms import Compose, Resize, ToTensor\n",
    "from torchvision.datasets import ImageFolder\n",
    "from torch.utils.data import DataLoader\n"
   ]
  },
  {
   "cell_type": "code",
   "execution_count": 2,
   "metadata": {},
   "outputs": [],
   "source": [
    "# Device configuration\n",
    "device = torch.device('cuda' if torch.cuda.is_available() else 'cpu')"
   ]
  },
  {
   "cell_type": "markdown",
   "metadata": {},
   "source": [
    "## Preparing the Dataset and Data Loaders\n",
    "\n",
    "**Image Transformations:**\n",
    "\n",
    "- Defines a series of transformations (transform) to be applied to the images, including resizing them to 128x128 pixels and converting them to tensors using ToTensor().\n",
    "\n",
    "**Loading Datasets:**\n",
    "\n",
    "- Loads the training dataset from the directory 'tree_train_set' and the validation dataset from 'tree_test_set' using ImageFolder. The specified transformations are applied to each image as they are loaded.\n",
    "\n",
    "**Display Classes:**\n",
    "\n",
    "- Prints the names of the classes (categories) in the training dataset using train_data.classes.\n",
    "\n",
    "**Creating Data Loaders:**\n",
    "\n",
    "- Creates data loaders (train_loader and val_loader) for the training and validation datasets, respectively, with a batch size of 16. The training data is shuffled, while the validation data is not.\n",
    "\n",
    "**Display Sample Counts:**\n",
    "\n",
    "- Prints the number of samples in the training and validation datasets using len(train_data) and len(val_data).\n",
    "\n",
    "\n",
    "**`Overall, this code prepares the image datasets for training a machine learning model, ensuring images are the correct size and in tensor format for processing.`**"
   ]
  },
  {
   "cell_type": "code",
   "execution_count": 3,
   "metadata": {},
   "outputs": [
    {
     "name": "stdout",
     "output_type": "stream",
     "text": [
      "Classes: ['birch', 'juniper', 'maple', 'pine', 'spruce']\n",
      "Number of training samples: 106\n",
      "Number of validation samples: 30\n"
     ]
    }
   ],
   "source": [
    "# Transformations (from your lab)\n",
    "transform = Compose([Resize((128, 128)), ToTensor()])\n",
    "\n",
    "# Load the dataset\n",
    "train_data = ImageFolder(root='tree_train_set', transform=transform)\n",
    "val_data = ImageFolder(root='tree_test_set', transform=transform)\n",
    "print('Classes:', train_data.classes)\n",
    "# Create data loaders\n",
    "train_loader = DataLoader(train_data, batch_size=16, shuffle=True)\n",
    "val_loader = DataLoader(val_data, batch_size=16, shuffle=False)\n",
    "print(f\"Number of training samples: {len(train_data)}\")\n",
    "print(f\"Number of validation samples: {len(val_data)}\")"
   ]
  },
  {
   "cell_type": "code",
   "execution_count": 4,
   "metadata": {},
   "outputs": [
    {
     "name": "stdout",
     "output_type": "stream",
     "text": [
      "Directory: tree_test_set\n",
      "Number of files: 0\n",
      "Files: []\n",
      "--------------------------------------------------\n",
      "Directory: tree_test_set\\birch\n",
      "Number of files: 7\n",
      "Files: ['testBirch01-000.jpg', 'testBirch01-001.jpg', 'testBirch01-002.jpg', 'testBirch01-003.jpg', 'testBirch01-004.JPEG', 'testBirch01-005.JPEG', 'testBirch01-006.jpg']\n",
      "--------------------------------------------------\n",
      "Directory: tree_test_set\\juniper\n",
      "Number of files: 4\n",
      "Files: ['testJuniper02-000.jpg', 'testJuniper02-001.jpg', 'testJuniper02-002.jpg', 'testJuniper02-003.jpg']\n",
      "--------------------------------------------------\n",
      "Directory: tree_test_set\\maple\n",
      "Number of files: 8\n",
      "Files: ['testMaple03-000.jpg', 'testMaple03-001.jpg', 'testMaple03-002.jpg', 'testMaple03-003.jpg', 'testMaple03-004.jpg', 'testMaple03-006.jpg', 'testMaple03-007.jpg', 'testMaple03-008.jpg']\n",
      "--------------------------------------------------\n",
      "Directory: tree_test_set\\pine\n",
      "Number of files: 5\n",
      "Files: ['testPine04-000.JPEG', 'testPine04-001.JPEG', 'testPine04-002.jpg', 'testPine04-003.jpg', 'testPine04-004.jpg']\n",
      "--------------------------------------------------\n",
      "Directory: tree_test_set\\spruce\n",
      "Number of files: 6\n",
      "Files: ['testSpruce05-000.jpg', 'testSpruce05-001.jpg', 'testSpruce05-002.JPEG', 'testSpruce05-003.JPEG', 'testSpruce05-004.JPEG', 'testSpruce05-005.JPEG']\n",
      "--------------------------------------------------\n"
     ]
    }
   ],
   "source": [
    "import os\n",
    "val_dir = 'tree_test_set'\n",
    "for root, dirs, files in os.walk(val_dir):\n",
    "    print(f\"Directory: {root}\")\n",
    "    print(f\"Number of files: {len(files)}\")\n",
    "    print(f\"Files: {files}\")\n",
    "    print(\"-\" * 50)"
   ]
  },
  {
   "cell_type": "markdown",
   "metadata": {},
   "source": [
    "## Loading a Pre-trained ResNet Model\n",
    "\n",
    "In this block, we load the pre-trained **ResNet18** model, which is a popular deep learning architecture known for its residual connections that help avoid the vanishing gradient problem in deep networks.\n",
    "\n",
    "- **models.resnet18()**: This function loads the **ResNet18** architecture from the **torchvision** library.\n",
    "\n",
    "- **weights=models.ResNet18_Weights.DEFAULT**: This specifies that we are using the pre-trained weights provided by torchvision. These weights are trained on a large-scale dataset like ImageNet, allowing us to benefit from a model that has already learned useful features.\n",
    "\n",
    "- **.to(device)**: This moves the model to the specified device (usually a GPU or CPU). If a GPU is available, the model will run on it for faster computations.\n",
    "\n",
    "By using this pre-trained model, we leverage the knowledge it has already learned and adapt it to our specific task (transfer learning).\n"
   ]
  },
  {
   "cell_type": "code",
   "execution_count": 5,
   "metadata": {},
   "outputs": [],
   "source": [
    "# Load a pretrained ResNet model\n",
    "model = models.resnet18(weights=models.ResNet18_Weights.DEFAULT).to(device)"
   ]
  },
  {
   "cell_type": "markdown",
   "metadata": {},
   "source": [
    "### This code modifies the final fully connected layer of a pre-trained neural network model for transfer learning.\n",
    "\n",
    "- **model.fc:** This accesses the final fully connected layer of the model, which is typically used to output class predictions.\n",
    "\n",
    "- **nn.Linear(512, 5):** This replaces the existing final layer with a new linear layer that takes 512 input features (the output size from the previous layer) and produces 5 output features, corresponding to the 5 classes in the Trees dataset.\n",
    "\n",
    "- **.to(device):** This moves the modified layer to the specified device (CPU or GPU) for computation.\n",
    "\n",
    "**`In summary, this code adapts the pre-trained model to classify images into 5 specific classes related to trees, making it suitable for the new dataset.`**"
   ]
  },
  {
   "cell_type": "code",
   "execution_count": 6,
   "metadata": {},
   "outputs": [],
   "source": [
    "# Modify the final fully connected layer for transfer learning (assuming 5 classes for the Trees dataset)\n",
    "model.fc = nn.Linear(512, 5).to(device)"
   ]
  },
  {
   "cell_type": "markdown",
   "metadata": {},
   "source": [
    "### This code sets up the components needed for training a neural network:\n",
    "\n",
    "**Loss Function:**\n",
    "\n",
    "- **criterion = nn.CrossEntropyLoss():** This defines the loss function as Cross Entropy Loss, which is used for multi-class classification tasks. It calculates how well the model's predicted class probabilities match the true class labels, helping to guide the training process by providing feedback on errors.\n",
    "\n",
    "**Optimizer:**\n",
    "\n",
    "- **optimizer = optim.Adam(model.parameters(), lr=0.001):** This initializes the Adam optimizer, which is used to update the model's weights during training.\n",
    "\n",
    "- **model.parameters()** passes the model's parameters (weights and biases) to the optimizer.\n",
    "\n",
    "- **lr=0.001** sets the learning rate, determining the step size for weight updates. A learning rate of 0.001 is commonly used to ensure stable and effective training.\n",
    "\n",
    "**`In summary, this code prepares the loss function and optimizer, essential for training the neural network effectively.`**"
   ]
  },
  {
   "cell_type": "code",
   "execution_count": 7,
   "metadata": {},
   "outputs": [],
   "source": [
    "# Loss function and optimizer\n",
    "criterion = nn.CrossEntropyLoss()\n",
    "optimizer = optim.Adam(model.parameters(), lr=0.001)"
   ]
  },
  {
   "cell_type": "markdown",
   "metadata": {},
   "source": [
    "### Training Loop\n",
    "\n",
    "This code defines two functions for training and validating a machine learning model.\n",
    "\n",
    "- **train():**\n",
    "\n",
    "- Sets the model to training mode.\n",
    "- Loops through the training data (loader), performs forward passes to compute predictions, calculates the loss, and uses backpropagation to update the model's weights with the optimizer.\n",
    "- Tracks the training loss and accuracy for the current epoch and prints them at the end.\n",
    "\n",
    "### Validation Loop\n",
    "\n",
    "- **validate():**\n",
    "\n",
    "- Sets the model to evaluation mode (no gradient calculations).\n",
    "- Loops through the validation data, performs forward passes to get predictions, calculates the loss, and measures the accuracy.\n",
    "- Tracks and prints the validation loss and accuracy after going through the entire validation set.\n"
   ]
  },
  {
   "cell_type": "code",
   "execution_count": 8,
   "metadata": {},
   "outputs": [],
   "source": [
    "# Training loop\n",
    "def train(model, loader, criterion, optimizer, device):\n",
    "    model.train()\n",
    "    running_loss = 0.0\n",
    "    correct = 0\n",
    "    total = 0\n",
    "\n",
    "    for inputs, labels in loader:\n",
    "        inputs, labels = inputs.to(device), labels.to(device)\n",
    "\n",
    "        # Forward pass\n",
    "        outputs = model(inputs)\n",
    "        loss = criterion(outputs, labels)\n",
    "\n",
    "        # Backward and optimize\n",
    "        optimizer.zero_grad()\n",
    "        loss.backward()\n",
    "        optimizer.step()\n",
    "\n",
    "        running_loss += loss.item()\n",
    "        _, predicted = outputs.max(1)\n",
    "        total += labels.size(0)\n",
    "        correct += predicted.eq(labels).sum().item()\n",
    "\n",
    "    epoch_loss = running_loss / len(loader)\n",
    "    epoch_accuracy = 100. * correct / total\n",
    "\n",
    "    print(f\"Train Loss: {epoch_loss}, Train Accuracy: {epoch_accuracy}%\")\n",
    "\n",
    "# Validation loop\n",
    "def validate(model, loader, criterion, device):\n",
    "    model.eval()\n",
    "    running_loss = 0.0\n",
    "    correct = 0\n",
    "    total = 0\n",
    "\n",
    "    with torch.no_grad():\n",
    "        for inputs, labels in loader:\n",
    "            inputs, labels = inputs.to(device), labels.to(device)\n",
    "\n",
    "            # Forward pass\n",
    "            outputs = model(inputs)\n",
    "            loss = criterion(outputs, labels)\n",
    "\n",
    "            running_loss += loss.item()\n",
    "            _, predicted = outputs.max(1)\n",
    "            total += labels.size(0)\n",
    "            correct += predicted.eq(labels).sum().item()\n",
    "\n",
    "    epoch_loss = running_loss / len(loader)\n",
    "    epoch_accuracy = 100. * correct / total\n",
    "\n",
    "    print(f\"Validation Loss: {epoch_loss}, Validation Accuracy: {epoch_accuracy}%\")"
   ]
  },
  {
   "cell_type": "markdown",
   "metadata": {},
   "source": [
    "## Training the Model\n",
    "\n",
    "This code trains a machine learning model for 10 epochs and evaluates its performance after each epoch.\n",
    "\n",
    "- num_epochs = 10: The number of times the model will go through the training data.\n",
    "- for epoch in range(num_epochs):: A loop that runs the training and validation process 10 times (one for each epoch).\n",
    "- train(): A function that handles training the model using the training dataset (train_loader), updating weights with the optimizer, and calculating the loss using the criterion.\n",
    "- validate(): A function that evaluates the model on the validation dataset (val_loader) to check its performance without updating weights.\n"
   ]
  },
  {
   "cell_type": "code",
   "execution_count": 10,
   "metadata": {},
   "outputs": [
    {
     "name": "stdout",
     "output_type": "stream",
     "text": [
      "Epoch 1/10\n",
      "Train Loss: 0.04510910855606198, Train Accuracy: 99.05660377358491%\n",
      "Validation Loss: 1.074363797903061, Validation Accuracy: 66.66666666666667%\n",
      "Epoch 2/10\n",
      "Train Loss: 0.03425344691744873, Train Accuracy: 99.05660377358491%\n",
      "Validation Loss: 1.3086349964141846, Validation Accuracy: 66.66666666666667%\n",
      "Epoch 3/10\n",
      "Train Loss: 0.025374088935287937, Train Accuracy: 99.05660377358491%\n",
      "Validation Loss: 1.5804842412471771, Validation Accuracy: 60.0%\n",
      "Epoch 4/10\n",
      "Train Loss: 0.05217774812730828, Train Accuracy: 98.11320754716981%\n",
      "Validation Loss: 1.0634645521640778, Validation Accuracy: 70.0%\n",
      "Epoch 5/10\n",
      "Train Loss: 0.01924234246169882, Train Accuracy: 99.05660377358491%\n",
      "Validation Loss: 0.6944030523300171, Validation Accuracy: 80.0%\n",
      "Epoch 6/10\n",
      "Train Loss: 0.035229971898453574, Train Accuracy: 99.05660377358491%\n",
      "Validation Loss: 0.7221062481403351, Validation Accuracy: 80.0%\n",
      "Epoch 7/10\n",
      "Train Loss: 0.08918664684253079, Train Accuracy: 97.16981132075472%\n",
      "Validation Loss: 0.9105867445468903, Validation Accuracy: 76.66666666666667%\n",
      "Epoch 8/10\n",
      "Train Loss: 0.007589060114696622, Train Accuracy: 100.0%\n",
      "Validation Loss: 1.3926461935043335, Validation Accuracy: 70.0%\n",
      "Epoch 9/10\n",
      "Train Loss: 0.11688902987433332, Train Accuracy: 96.22641509433963%\n",
      "Validation Loss: 1.055175930261612, Validation Accuracy: 70.0%\n",
      "Epoch 10/10\n",
      "Train Loss: 0.023826922472965504, Train Accuracy: 100.0%\n",
      "Validation Loss: 0.7788280546665192, Validation Accuracy: 73.33333333333333%\n"
     ]
    }
   ],
   "source": [
    "# Train the model for 10 epochs (you can increase the epochs as needed)\n",
    "num_epochs = 10\n",
    "for epoch in range(num_epochs):\n",
    "    print(f'Epoch {epoch+1}/{num_epochs}')\n",
    "    train(model, train_loader, criterion, optimizer, device)\n",
    "    validate(model, val_loader, criterion, device)"
   ]
  },
  {
   "cell_type": "code",
   "execution_count": 20,
   "metadata": {},
   "outputs": [],
   "source": [
    "# If you want to save the model to disk \n",
    "torch.save(model.state_dict(), '(1)resnet18_tree_recognition.pth')"
   ]
  },
  {
   "cell_type": "code",
   "execution_count": 28,
   "metadata": {},
   "outputs": [
    {
     "name": "stderr",
     "output_type": "stream",
     "text": [
      "c:\\Python311\\Lib\\site-packages\\torchvision\\models\\_utils.py:208: UserWarning: The parameter 'pretrained' is deprecated since 0.13 and may be removed in the future, please use 'weights' instead.\n",
      "  warnings.warn(\n",
      "c:\\Python311\\Lib\\site-packages\\torchvision\\models\\_utils.py:223: UserWarning: Arguments other than a weight enum or `None` for 'weights' are deprecated since 0.13 and may be removed in the future. The current behavior is equivalent to passing `weights=None`.\n",
      "  warnings.warn(msg)\n",
      "C:\\Users\\Käyttäjä\\AppData\\Local\\Temp\\ipykernel_2812\\510917705.py:14: FutureWarning: You are using `torch.load` with `weights_only=False` (the current default value), which uses the default pickle module implicitly. It is possible to construct malicious pickle data which will execute arbitrary code during unpickling (See https://github.com/pytorch/pytorch/blob/main/SECURITY.md#untrusted-models for more details). In a future release, the default value for `weights_only` will be flipped to `True`. This limits the functions that could be executed during unpickling. Arbitrary objects will no longer be allowed to be loaded via this mode unless they are explicitly allowlisted by the user via `torch.serialization.add_safe_globals`. We recommend you start setting `weights_only=True` for any use case where you don't have full control of the loaded file. Please open an issue on GitHub for any issues related to this experimental feature.\n",
      "  model.load_state_dict(torch.load('(1)resnet18_tree_recognition.pth'))\n"
     ]
    },
    {
     "name": "stdout",
     "output_type": "stream",
     "text": [
      "Running on local URL:  http://127.0.0.1:7861\n",
      "Running on public URL: https://7ac1ae9529b955f39e.gradio.live\n",
      "\n",
      "This share link expires in 72 hours. For free permanent hosting and GPU upgrades, run `gradio deploy` from Terminal to deploy to Spaces (https://huggingface.co/spaces)\n"
     ]
    },
    {
     "data": {
      "text/html": [
       "<div><iframe src=\"https://7ac1ae9529b955f39e.gradio.live\" width=\"100%\" height=\"500\" allow=\"autoplay; camera; microphone; clipboard-read; clipboard-write;\" frameborder=\"0\" allowfullscreen></iframe></div>"
      ],
      "text/plain": [
       "<IPython.core.display.HTML object>"
      ]
     },
     "metadata": {},
     "output_type": "display_data"
    },
    {
     "data": {
      "text/plain": []
     },
     "execution_count": 28,
     "metadata": {},
     "output_type": "execute_result"
    }
   ],
   "source": [
    "import torch\n",
    "import gradio as gr\n",
    "from torchvision import models, transforms\n",
    "from PIL import Image\n",
    "\n",
    "# Lataa aiemmin treenattu malli\n",
    "model = models.resnet18(pretrained=False)\n",
    "\n",
    "# Muokkaa mallin viimeistä kerrosta, jos luokkien määrä on eri\n",
    "num_classes = 5\n",
    "model.fc = torch.nn.Linear(model.fc.in_features, num_classes)\n",
    "\n",
    "# Lataa tilatiedot (aiemmin tallennetusta tiedostosta)\n",
    "model.load_state_dict(torch.load('(1)resnet18_tree_recognition.pth'))\n",
    "model.eval()  # Aseta malli arviointitilaan\n",
    "\n",
    "# Määrittele kuvan muunnos, jota käytetään ennustamiseen\n",
    "transform = transforms.Compose([\n",
    "    transforms.Resize((128, 128)),  # Sama koko kuin koulutuksessa\n",
    "    transforms.ToTensor()  # Muunna tensoriksi\n",
    "])\n",
    "\n",
    "# Ennustusfunktio\n",
    "def predict(image):\n",
    "    # Muunna kuva tensoriksi ja lisää batch-dimensio\n",
    "    image = transform(image).unsqueeze(0).to(device)\n",
    "\n",
    "    # Mallin ennustus\n",
    "    with torch.no_grad():\n",
    "        output = model(image)\n",
    "\n",
    "        # Softmax, jotta saadaan todennäköisyydet eri luokille\n",
    "        probabilities = torch.nn.functional.softmax(output, dim=1)\n",
    "\n",
    "        # Muunna todennäköisyydet numpyksi\n",
    "        scores = probabilities.squeeze().cpu().numpy()\n",
    "\n",
    "    # Palauta todennäköisyydet ja luokkien nimet\n",
    "    class_names = train_data.classes  # Luokat koulutusdatasta\n",
    "    class_scores = {class_names[i]: float(scores[i]) for i in range(len(class_names))}\n",
    "    \n",
    "    return class_scores  # Palauta luokat ja todennäköisyydet\n",
    "\n",
    "# Gradio-käyttöliittymän luominen\n",
    "image_input = gr.Image(type=\"pil\")  # Uudempi syntaksi kuvan syötteelle\n",
    "label_output = gr.Label(num_top_classes=3)  # Uudempi syntaksi tulosteen luokittelulle\n",
    "\n",
    "# Luo käyttöliittymä Gradiolla\n",
    "gr_interface = gr.Interface(\n",
    "    fn=predict,  # Ennustusfunktio\n",
    "    inputs=image_input,  # Syöte on kuva\n",
    "    outputs=label_output,  # Tuloste on luokat ja todennäköisyydet\n",
    "    title=\"Tree Species Recognition\",  # Käyttöliittymän otsikko\n",
    "    description=\"Upload a tree image to classify its species.\"  # Kuvaus\n",
    ")\n",
    "\n",
    "# Käynnistä Gradio-käyttöliittymä\n",
    "gr_interface.launch(share=True)\n"
   ]
  },
  {
   "cell_type": "code",
   "execution_count": 29,
   "metadata": {},
   "outputs": [
    {
     "name": "stdout",
     "output_type": "stream",
     "text": [
      "Predicted class: birch\n"
     ]
    }
   ],
   "source": [
    "from PIL import Image\n",
    "import torch\n",
    "\n",
    "# Function to perform inference on a single image\n",
    "def infer(model, image_path, transform, device):\n",
    "    # Load the image and convert it to RGB (3 channels)\n",
    "    image = Image.open(image_path).convert('RGB')\n",
    "    image = transform(image).unsqueeze(0).to(device)  # Add batch dimension\n",
    "\n",
    "    # Put the model in evaluation mode\n",
    "    model.eval()\n",
    "\n",
    "    with torch.no_grad():\n",
    "        output = model(image)\n",
    "        _, predicted = output.max(1)\n",
    "    \n",
    "    return predicted.item()\n",
    "\n",
    "# Class names are based on the order printed from train_data.classes\n",
    "class_names = ['birch', 'juniper', 'maple', 'pine', 'spruce']\n",
    "\n",
    "# Path to the test image\n",
    "image_path = 'tree_test_set/pine/testPine04-004.jpg'  # Adjust the path as needed\n",
    "\n",
    "# Run inference\n",
    "predicted_class = infer(model, image_path, transform, device)\n",
    "print(f'Predicted class: {class_names[predicted_class]}')\n",
    "\n",
    "# Path to the test image\n",
    "# image_path = 'rps-test-set/rock/testrock01-00.png'  # Ensure the path is correct\n",
    "\n"
   ]
  },
  {
   "cell_type": "markdown",
   "metadata": {},
   "source": [
    "## Confusion matrix"
   ]
  },
  {
   "cell_type": "code",
   "execution_count": 30,
   "metadata": {},
   "outputs": [
    {
     "name": "stdout",
     "output_type": "stream",
     "text": [
      "Number of predictions: 30\n",
      "Number of true labels: 30\n"
     ]
    },
    {
     "data": {
      "image/png": "[encoded data removed]",
      "text/plain": [
       "<Figure size 640x480 with 2 Axes>"
      ]
     },
     "metadata": {},
     "output_type": "display_data"
    }
   ],
   "source": [
    "import torch\n",
    "from sklearn.metrics import confusion_matrix, ConfusionMatrixDisplay\n",
    "import matplotlib.pyplot as plt\n",
    "import numpy as np\n",
    "\n",
    "# Function to get predictions for the entire validation set\n",
    "def get_all_predictions(model, loader, device):\n",
    "    model.eval()\n",
    "    all_preds = []\n",
    "    all_labels = []\n",
    "\n",
    "    with torch.no_grad():\n",
    "        for inputs, labels in loader:\n",
    "            inputs, labels = inputs.to(device), labels.to(device)\n",
    "            outputs = model(inputs)\n",
    "            _, predicted = outputs.max(1)\n",
    "            all_preds.append(predicted.cpu().numpy())\n",
    "            all_labels.append(labels.cpu().numpy())\n",
    "\n",
    "    # Convert list of arrays to single numpy arrays\n",
    "    all_preds = np.concatenate(all_preds)\n",
    "    all_labels = np.concatenate(all_labels)\n",
    "    return all_preds, all_labels\n",
    "\n",
    "# Get predictions and true labels from validation data\n",
    "preds, labels = get_all_predictions(model, val_loader, device)\n",
    "# Print the shape of preds and labels\n",
    "print(f\"Number of predictions: {len(preds)}\")\n",
    "print(f\"Number of true labels: {len(labels)}\")\n",
    "# Compute the confusion matrix\n",
    "conf_matrix = confusion_matrix(labels, preds)\n",
    "\n",
    "# Display the confusion matrix\n",
    "class_names = ['birch', 'juniper', 'maple', 'pine', 'spruce']  # Based on your dataset\n",
    "\n",
    "disp = ConfusionMatrixDisplay(confusion_matrix=conf_matrix, display_labels=class_names)\n",
    "disp.plot(cmap=plt.cm.Blues)\n",
    "plt.show()\n"
   ]
  }
 ],
 "metadata": {
  "kernelspec": {
   "display_name": "devAI",
   "language": "python",
   "name": "python3"
  },
  "language_info": {
   "codemirror_mode": {
    "name": "ipython",
    "version": 3
   },
   "file_extension": ".py",
   "mimetype": "text/x-python",
   "name": "python",
   "nbconvert_exporter": "python",
   "pygments_lexer": "ipython3",
   "version": "3.11.4"
  }
 },
 "nbformat": 4,
 "nbformat_minor": 2
}
